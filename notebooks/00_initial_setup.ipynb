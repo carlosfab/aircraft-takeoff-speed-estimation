{
 "cells": [
  {
   "cell_type": "markdown",
   "metadata": {},
   "source": [
    "# 📕 00 - Initial Setup and Video Download\n",
    "\n",
    "This notebook serves as the foundational step in constructing an application designed to estimate the takeoff speed of aircraft. Utilizing actual footage from Santos Dumont Airport in Rio de Janeiro, this example demonstrates the practical application of video processing in extracting meaningful data from real-world scenarios. The video required for this example will be obtained using the `sigmoidalvision` library.\n",
    "\n",
    "<center>\n",
    "    <br>\n",
    "    <img src = \"https://github.com/carlosfab/aircraft-takeoff-speed-estimation/blob/main/images/sample-banner.png?raw=true\" height=500>\n",
    "    <br>\n",
    "</center>\n",
    "\n",
    "## Initial Setup\n",
    "\n",
    ":::{.callout-note}\n",
    "Prior to executing this notebook, ensure you have configured your environment and installed all necessary dependencies. Detailed instructions for environment setup and dependency installation are available in the [Setup Instructions](https://github.com/carlosfab/aircraft-takeoff-speed-estimation).\n",
    ":::\n",
    "\n",
    "Following the environment setup, this notebook will guide you through preparing the folder structure and downloading the sample footage that will be utilized throughout the project.\n",
    "\n",
    "The cell below loads essential Python modules and defines paths utilized throughout the notebook. It imports `shutil` and `Path` for file and directory operations, and `download_media_asset` from the `sigmoidalvision.assets` module for video downloading. Additionally, it imports `CODE_PATH` and `DATA_PATH` from a local script `path.py` to standardize the directory structure for code and data storage."
   ]
  },
  {
   "cell_type": "code",
   "execution_count": 1,
   "metadata": {},
   "outputs": [],
   "source": [
    "# Load necessary extensions\n",
    "import shutil\n",
    "from pathlib import Path\n",
    "\n",
    "from sigmoidalvision.assets import MediaAsset, download_media_asset\n",
    "\n",
    "from src.path import CODE_PATH, DATA_PATH\n",
    "\n",
    "path_script = str(CODE_PATH / \"path.py\")"
   ]
  },
  {
   "cell_type": "markdown",
   "metadata": {},
   "source": [
    "Now we execute the `path.py` script using the IPython magic command `%run`. This script is responsible for setting up or verifying the project's directory structure, ensuring that all necessary paths are correctly defined and available for use throughout the project."
   ]
  },
  {
   "cell_type": "code",
   "execution_count": 2,
   "metadata": {},
   "outputs": [
    {
     "name": "stdout",
     "output_type": "stream",
     "text": [
      "Directory '/Users/carlos/Projects/aircraft-takeoff-speed-estimation/data' created.\n",
      "Directory '/Users/carlos/Projects/aircraft-takeoff-speed-estimation/models' already exists.\n",
      "Directory '/Users/carlos/Projects/aircraft-takeoff-speed-estimation/output' created.\n"
     ]
    }
   ],
   "source": [
    "%run $path_script"
   ]
  },
  {
   "cell_type": "markdown",
   "metadata": {},
   "source": [
    "This cell introduces a function, `download_to_specific_path`, designed to download a media asset using the `sigmoidalvision` library and subsequently move it to a specified destination path.\n",
    "\n",
    ":::{.callout-note}\n",
    "**Wrapping a Function:** Wrapping a function involves creating a new function that adds additional functionality to an existing one. This technique allows for extending the capabilities of the original function without altering its code. This approach is particularly useful for adding features such as logging, error handling, input modification, and post-processing results.\n",
    ":::\n",
    "\n",
    "In this case, `download_to_specific_path` wraps around `download_media_asset` to add functionality for specifying the download destination. The process involves downloading the file to the current directory, determining the source and destination paths, and then moving the file to the intended location."
   ]
  },
  {
   "cell_type": "code",
   "execution_count": 3,
   "metadata": {},
   "outputs": [
    {
     "data": {
      "application/vnd.jupyter.widget-view+json": {
       "model_id": "0453a4d17cba41ccbef056b379e55316",
       "version_major": 2,
       "version_minor": 0
      },
      "text/plain": [
       "Downloading:   0%|          | 0.00/12.5M [00:00<?, ?B/s]"
      ]
     },
     "metadata": {},
     "output_type": "display_data"
    },
    {
     "name": "stdout",
     "output_type": "stream",
     "text": [
      "File santos_dumont_airport.mp4 downloaded successfully.\n",
      "File moved to /Users/carlos/Projects/aircraft-takeoff-speed-estimation/data/santos_dumont_airport.mp4\n"
     ]
    }
   ],
   "source": [
    "def download_to_specific_path(\n",
    "    media_asset: MediaAsset, destination_path: Path | str\n",
    ") -> None:\n",
    "    \"\"\"\n",
    "    Downloads a media asset and moves it to a specified destination path.\n",
    "\n",
    "    Args:\n",
    "        media_asset (MediaAsset): The media asset to be downloaded.\n",
    "        destination_path (Union[Path, str]): The destination directory path where the media asset will be moved.\n",
    "\n",
    "    Returns:\n",
    "        None\n",
    "    \"\"\"\n",
    "    # Calls the original function to download the file to the default location\n",
    "    file_name = download_media_asset(media_asset)  # Assumes it returns the file name\n",
    "    source_path = Path(file_name)  # The original path of the downloaded file\n",
    "\n",
    "    # Checks and converts destination_path to a Path object, if necessary\n",
    "    if not isinstance(destination_path, Path):\n",
    "        destination_path = Path(destination_path)\n",
    "\n",
    "    # Constructs the full destination path\n",
    "    destination_file_path = destination_path / source_path.name\n",
    "\n",
    "    # Moves the file to the destination path\n",
    "    shutil.move(str(source_path), str(destination_file_path))\n",
    "    print(f\"File moved to {destination_file_path}\")\n",
    "\n",
    "\n",
    "# Use of the wrapper function\n",
    "download_to_specific_path(MediaAsset.AIRPORT, DATA_PATH)"
   ]
  },
  {
   "cell_type": "code",
   "execution_count": null,
   "metadata": {},
   "outputs": [],
   "source": []
  }
 ],
 "metadata": {
  "kernelspec": {
   "display_name": ".venv",
   "language": "python",
   "name": "python3"
  },
  "language_info": {
   "codemirror_mode": {
    "name": "ipython",
    "version": 3
   },
   "file_extension": ".py",
   "mimetype": "text/x-python",
   "name": "python",
   "nbconvert_exporter": "python",
   "pygments_lexer": "ipython3",
   "version": "3.10.0"
  }
 },
 "nbformat": 4,
 "nbformat_minor": 2
}
